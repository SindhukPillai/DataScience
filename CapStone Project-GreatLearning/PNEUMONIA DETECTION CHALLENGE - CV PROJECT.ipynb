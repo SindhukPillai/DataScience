{
 "cells": [
  {
   "cell_type": "markdown",
   "id": "5e4fe7ad",
   "metadata": {},
   "source": [
    "# PNEUMONIA DETECTION CHALLENGE - CV PROJECT"
   ]
  },
  {
   "cell_type": "markdown",
   "id": "ff20ad74",
   "metadata": {},
   "source": [
    "PROBLEM STATEMENT\n",
    "\n",
    "• DOMAIN: Health Care\n",
    "    \n",
    "• CONTEXT:\n",
    "Computer vision can be used in health care for identifying diseases. In Pneumonia detection we need to detect Inflammation\n",
    "of the lungs. In this challenge, you’re required to build an algorithm to detect a visual signal for pneumonia in medical\n",
    "images. Specifically, your algorithm needs to automatically locate lung opacities on chest radiographs.\n",
    "      \n",
    "• PROJECT OBJECTIVE: \n",
    "Design a DL based algorithm for detecting pneumonia."
   ]
  },
  {
   "cell_type": "code",
   "execution_count": null,
   "id": "b930b7ca",
   "metadata": {},
   "outputs": [],
   "source": []
  }
 ],
 "metadata": {
  "kernelspec": {
   "display_name": "Python 3 (ipykernel)",
   "language": "python",
   "name": "python3"
  },
  "language_info": {
   "codemirror_mode": {
    "name": "ipython",
    "version": 3
   },
   "file_extension": ".py",
   "mimetype": "text/x-python",
   "name": "python",
   "nbconvert_exporter": "python",
   "pygments_lexer": "ipython3",
   "version": "3.9.12"
  }
 },
 "nbformat": 4,
 "nbformat_minor": 5
}
